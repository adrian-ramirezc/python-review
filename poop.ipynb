{
 "cells": [
  {
   "cell_type": "markdown",
   "metadata": {},
   "source": [
    "# Python Object Oriented Programming\n",
    "\n",
    "Class : attributes, methods"
   ]
  },
  {
   "cell_type": "markdown",
   "metadata": {},
   "source": [
    "## Class definition \n",
    "- Object Initialization \n",
    "- Object Methods\n",
    "- Object attributes"
   ]
  },
  {
   "cell_type": "code",
   "execution_count": 5,
   "metadata": {},
   "outputs": [
    {
     "name": "stdout",
     "output_type": "stream",
     "text": [
      "blue\n",
      "This Corvette is driving\n",
      "This Corvette is stopped\n"
     ]
    }
   ],
   "source": [
    "class Car:\n",
    "    \n",
    "    def __init__(self, make, model, year, color):\n",
    "        # Object attributes\n",
    "        self.make = make \n",
    "        self.model = model\n",
    "        self.year = year\n",
    "        self.color = color\n",
    "    \n",
    "    # Methods\n",
    "    def drive(self):\n",
    "        print(\"This \" + self.model + \" is driving\")\n",
    "    \n",
    "    def stop(self):\n",
    "        print(\"This \" + self.model + \" is stopped\")\n",
    "    \n",
    "\n",
    "car_1 = Car(\"Chevy\", \"Corvette\", 2021, \"blue\")\n",
    "\n",
    "print(car_1.color)\n",
    "\n",
    "car_1.drive()\n",
    "\n",
    "car_1.stop()"
   ]
  },
  {
   "cell_type": "markdown",
   "metadata": {},
   "source": [
    "# Inheritance"
   ]
  },
  {
   "cell_type": "code",
   "execution_count": 11,
   "metadata": {},
   "outputs": [
    {
     "name": "stdout",
     "output_type": "stream",
     "text": [
      "This is Julio and is 4 years old\n",
      "Pet Julio don't speak\n",
      "This is Garfield and is 5 years old\n",
      "Meow\n"
     ]
    }
   ],
   "source": [
    "# Parent Class\n",
    "class Pet:\n",
    "    def __init__(self,name, age):\n",
    "        self.name = name\n",
    "        self.age = age\n",
    "    \n",
    "    def show(self):\n",
    "        return f'This is {self.name} and is {self.age} years old'\n",
    "    \n",
    "    def speak(self):\n",
    "        return f\"Pet {self.name} don't speak\"\n",
    "\n",
    "# Child Class\n",
    "class Cat(Pet):\n",
    "    def __init__(self, name, age, color):\n",
    "        super().__init__(name, age)\n",
    "        self.color = color\n",
    "\n",
    "    # Over-writing a parent class method\n",
    "    def speak(self):\n",
    "        return \"Meow\"\n",
    "\n",
    "pet1 = Pet(\"Julio\", 4)\n",
    "print(pet1.show())\n",
    "print(pet1.speak())\n",
    "\n",
    "cat1 = Cat(\"Garfield\", 5, \"Orange\")\n",
    "print(cat1.show())\n",
    "print(cat1.speak())"
   ]
  },
  {
   "cell_type": "markdown",
   "metadata": {},
   "source": [
    "## Class attributes\n",
    "- Are visible for all objects"
   ]
  },
  {
   "cell_type": "code",
   "execution_count": 16,
   "metadata": {},
   "outputs": [
    {
     "name": "stdout",
     "output_type": "stream",
     "text": [
      "0\n",
      "2\n",
      "2\n"
     ]
    }
   ],
   "source": [
    "class Person:\n",
    "    # Class attribute\n",
    "    number_of_people = 0\n",
    "\n",
    "    def __init__(self, name):\n",
    "        self.name = name \n",
    "        Person.number_of_people += 1\n",
    "\n",
    "print(Person.number_of_people)\n",
    "person1 = Person(\"Adrian\")\n",
    "person2 = Person(\"Jean\")\n",
    "print(Person.number_of_people)\n",
    "print(person1.number_of_people)\n",
    "\n",
    "    "
   ]
  },
  {
   "cell_type": "markdown",
   "metadata": {},
   "source": [
    "## Class methods\n",
    "- There is no need to create an object to call this methods"
   ]
  },
  {
   "cell_type": "code",
   "execution_count": 18,
   "metadata": {},
   "outputs": [
    {
     "name": "stdout",
     "output_type": "stream",
     "text": [
      "1\n"
     ]
    }
   ],
   "source": [
    "class Person:\n",
    "    # Class attribute\n",
    "    number_of_people = 0\n",
    "\n",
    "    def __init__(self, name):\n",
    "        self.name = name \n",
    "        Person.add_person()\n",
    "\n",
    "    @classmethod\n",
    "    def nbr_people(cls):\n",
    "        return cls.number_of_people\n",
    "\n",
    "    @classmethod\n",
    "    def add_person(cls):\n",
    "        cls.number_of_people += 1\n",
    "\n",
    "p1 = Person(\"Tim\")\n",
    "print(Person.nbr_people())\n"
   ]
  },
  {
   "cell_type": "markdown",
   "metadata": {},
   "source": [
    "## Static methods"
   ]
  },
  {
   "cell_type": "code",
   "execution_count": 19,
   "metadata": {},
   "outputs": [
    {
     "name": "stdout",
     "output_type": "stream",
     "text": [
      "15\n",
      "-5\n",
      "Hello World\n"
     ]
    }
   ],
   "source": [
    "class Math:\n",
    "    \n",
    "    @staticmethod\n",
    "    def add5(x):\n",
    "        return x+5\n",
    "    \n",
    "    @staticmethod\n",
    "    def subst5(x):\n",
    "        return x-5\n",
    "    \n",
    "    @staticmethod\n",
    "    def prHelloWorld():\n",
    "        print(\"Hello World\")\n",
    "\n",
    "\n",
    "print(Math.add5(10))\n",
    "print(Math.subst5(0))\n",
    "Math.prHelloWorld()\n",
    "    "
   ]
  },
  {
   "cell_type": "markdown",
   "metadata": {},
   "source": [
    "## Metaclass\n",
    "- Even a class is an object !"
   ]
  },
  {
   "cell_type": "markdown",
   "metadata": {},
   "source": [
    "### Type of a class, functions, ...\n",
    "Everything is an object that belongs to a class"
   ]
  },
  {
   "cell_type": "code",
   "execution_count": 21,
   "metadata": {},
   "outputs": [
    {
     "name": "stdout",
     "output_type": "stream",
     "text": [
      "<class 'type'>\n",
      "<class '__main__.Test'>\n",
      "<class 'int'>\n",
      "<class 'function'>\n"
     ]
    }
   ],
   "source": [
    "class Test:\n",
    "    pass\n",
    "def func():\n",
    "    pass\n",
    "\n",
    "print(type(Test))   # it is an object of the class type !\n",
    "print(type(Test())) # it is an object of the class Test !\n",
    "print(type(5))      # it is an object of the class int !\n",
    "print(type(func))   # it is an object of the class function !"
   ]
  },
  {
   "cell_type": "code",
   "execution_count": null,
   "metadata": {},
   "outputs": [],
   "source": []
  }
 ],
 "metadata": {
  "interpreter": {
   "hash": "563696ff2f0731da97234ba6f3e3de9a56a29679a3411b2753f42e8ea5897325"
  },
  "kernelspec": {
   "display_name": "Python 3.10.2 64-bit",
   "language": "python",
   "name": "python3"
  },
  "language_info": {
   "codemirror_mode": {
    "name": "ipython",
    "version": 3
   },
   "file_extension": ".py",
   "mimetype": "text/x-python",
   "name": "python",
   "nbconvert_exporter": "python",
   "pygments_lexer": "ipython3",
   "version": "3.10.2"
  },
  "orig_nbformat": 4
 },
 "nbformat": 4,
 "nbformat_minor": 2
}
