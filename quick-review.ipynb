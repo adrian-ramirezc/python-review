{
 "cells": [
  {
   "cell_type": "markdown",
   "metadata": {},
   "source": [
    "# Eveythin in Python is an object !"
   ]
  },
  {
   "cell_type": "markdown",
   "metadata": {},
   "source": [
    "### Data Types \n",
    "- Int \n",
    "    - -324354532\n",
    "    - 2345\n",
    "- Float\n",
    "    - 2.0\n",
    "    - -43546463.4\n",
    "- String\n",
    "    - 'This is a string'\n",
    "    - '4.6'\n",
    "    - \"This is also a string\"\n",
    "- Bool\n",
    "    - True\n",
    "    - False"
   ]
  },
  {
   "cell_type": "code",
   "execution_count": 2,
   "metadata": {},
   "outputs": [
    {
     "name": "stdout",
     "output_type": "stream",
     "text": [
      "var_int datatype is: <class 'int'>\n",
      "var_float datatype is: <class 'float'>\n",
      "var_string datatype is: <class 'str'>\n",
      "var_bool datatype is: <class 'bool'>\n"
     ]
    }
   ],
   "source": [
    "var_int = -324354532\n",
    "var_float = 2.0 \n",
    "var_string = 'This is a \"string\"'\n",
    "var_bool = True \n",
    "\n",
    "print(\"var_int datatype is: {}\".format(type(var_int)))\n",
    "print(\"var_float datatype is: {}\".format(type(var_float)))\n",
    "print(\"var_string datatype is: {}\".format(type(var_string)))\n",
    "print(\"var_bool datatype is: {}\".format(type(var_bool)))"
   ]
  },
  {
   "cell_type": "markdown",
   "metadata": {},
   "source": [
    "### Get input data"
   ]
  },
  {
   "cell_type": "code",
   "execution_count": 4,
   "metadata": {},
   "outputs": [
    {
     "name": "stdout",
     "output_type": "stream",
     "text": [
      "Adrian is 24 years old\n"
     ]
    }
   ],
   "source": [
    "name = input('Name: ')\n",
    "age = input(\"Age: \")\n",
    "\n",
    "print(\"{} is {} years old\".format(name, age))"
   ]
  },
  {
   "cell_type": "markdown",
   "metadata": {},
   "source": [
    "### Arithmetic Operators\n",
    "- ** : exp\n",
    "- // : integer division\n",
    "-  % : remainder of division"
   ]
  },
  {
   "cell_type": "code",
   "execution_count": 5,
   "metadata": {},
   "outputs": [
    {
     "name": "stdout",
     "output_type": "stream",
     "text": [
      "7^3 is: 343\n",
      "round 7/3 is: 2\n",
      "remainder of 7/3 is: 1\n"
     ]
    }
   ],
   "source": [
    "x = 7\n",
    "y = 3\n",
    "print(\"7^3 is: {}\".format(x**y))\n",
    "print(\"round 7/3 is: {}\".format(x//y))\n",
    "print(\"remainder of 7/3 is: {}\".format(x%y))"
   ]
  },
  {
   "cell_type": "markdown",
   "metadata": {},
   "source": [
    "### Cast"
   ]
  },
  {
   "cell_type": "code",
   "execution_count": 6,
   "metadata": {},
   "outputs": [
    {
     "name": "stdout",
     "output_type": "stream",
     "text": [
      "cast_var_float is  5\n",
      "cast_var_int is  23.0\n"
     ]
    }
   ],
   "source": [
    "var_float = 5.3425\n",
    "var_int = 23\n",
    "\n",
    "cast_var_float = int(var_float)\n",
    "cast_var_int = float(var_int)\n",
    "\n",
    "print(\"cast_var_float is \", cast_var_float)\n",
    "print(\"cast_var_int is \", cast_var_int)"
   ]
  },
  {
   "cell_type": "markdown",
   "metadata": {},
   "source": [
    "### Strings methods"
   ]
  },
  {
   "cell_type": "code",
   "execution_count": 18,
   "metadata": {},
   "outputs": [
    {
     "name": "stdout",
     "output_type": "stream",
     "text": [
      "The var 'hello' is an object of the class 'str'  |  <class 'str'>\n",
      "The upper method transforms 'hello' to:  HELLO\n",
      "2\n",
      "HelloWorld !\n"
     ]
    }
   ],
   "source": [
    "hello = 'hello'\n",
    "\n",
    "print(\"The var 'hello' is an object of the class 'str'\", end=\"  |  \")\n",
    "print(type(hello))\n",
    "\n",
    "HELLO = hello.upper()\n",
    "print(\"The upper method transforms 'hello' to: \", HELLO)\n",
    "\n",
    "# Other methods : \n",
    "#   - hello.lower()\n",
    "#   - hello.capitalize()\n",
    "#   - hello.count('substring')\n",
    "\n",
    "var_str = 'HeLlO WorLD'\n",
    "print(var_str.lower().count('o')) # 2\n",
    "\n",
    "# Concatenation\n",
    "x = 'Hello'\n",
    "y = 'World'\n",
    "z = ' !'\n",
    "print(x + y + z) # HelloWorld !\n"
   ]
  },
  {
   "cell_type": "markdown",
   "metadata": {},
   "source": [
    "### Conditions\n",
    "- ==\n",
    "- !=\n",
    "- <\n",
    "- \\>\n",
    "- <=\n",
    "- \\>="
   ]
  },
  {
   "cell_type": "code",
   "execution_count": 26,
   "metadata": {},
   "outputs": [
    {
     "name": "stdout",
     "output_type": "stream",
     "text": [
      "True\n",
      "True\n",
      "True\n",
      "True\n"
     ]
    }
   ],
   "source": [
    "x = \"hello\"\n",
    "y = \"hello\"\n",
    "\n",
    "print(x == y) # Compare character by character of the string / True\n",
    "\n",
    "#print(ord('a')) # ASCII code 'a' = 97\n",
    "print('a' < 'b') # compare the ASCII code of the character / True\n",
    "\n",
    "var_bool = x == y\n",
    "print(var_bool) # / True\n",
    "\n",
    "a = 5\n",
    "b = 6\n",
    "c = 7\n",
    "\n",
    "r1 = a < b  # True\n",
    "r2 = b == c # False\n",
    "r3 = c >= b # True\n",
    "\n",
    "r4 = r1 and (r2 or not r3) # False\n",
    "print(not r4) # / True\n",
    "\n"
   ]
  },
  {
   "cell_type": "markdown",
   "metadata": {},
   "source": [
    "### IF statement"
   ]
  },
  {
   "cell_type": "code",
   "execution_count": 28,
   "metadata": {},
   "outputs": [
    {
     "name": "stdout",
     "output_type": "stream",
     "text": [
      "Nilo is 54\n"
     ]
    }
   ],
   "source": [
    "name = 'Nilo'\n",
    "\n",
    "if name == 'Adrian':\n",
    "    age = 24\n",
    "elif name == 'Angie':\n",
    "    age = 20\n",
    "else: \n",
    "    age = 54\n",
    "\n",
    "print(name, \"is\", age)"
   ]
  },
  {
   "cell_type": "markdown",
   "metadata": {},
   "source": [
    "# List \n",
    "- MUTABLE object\n",
    "- ordered groups of elements\n",
    "- have methods\n",
    "- starts at idx 0"
   ]
  },
  {
   "cell_type": "code",
   "execution_count": 34,
   "metadata": {},
   "outputs": [
    {
     "name": "stdout",
     "output_type": "stream",
     "text": [
      "4\n",
      "['Adrian', 4, 3.5, True, False]\n",
      "['Adrian', 4, 3.5, True, False, 2, 'Hello', 0.5]\n",
      "0.5\n",
      "['Adrian', 4, 3.5, True, False, 2, 'Hello']\n",
      "Adrian\n",
      "[4, 3.5, True, False, 2, 'Hello']\n",
      "3.5\n",
      "x is ['Ramirez', 3.5, True, False, 2]\n",
      "y is ['Ramirez', 3.5, True, False, 2]\n",
      "z is [4, 3.5, True, False, 2, 'Hello']\n"
     ]
    }
   ],
   "source": [
    "x = ['Adrian', 4, 3.5, True]\n",
    "\n",
    "# Get the quantity of elements\n",
    "print(len(x)) # 4\n",
    "\n",
    "# Adding one element\n",
    "x.append(False)\n",
    "print(x)\n",
    "\n",
    "# Adding elements as a list\n",
    "x.extend([2,'Hello',0.5]) \n",
    "print(x)\n",
    "\n",
    "# removing last element\n",
    "print(x.pop())\n",
    "print(x)\n",
    "\n",
    "# Removing element by index\n",
    "print(x.pop(0))\n",
    "print(x)\n",
    "\n",
    "# Access elements\n",
    "print(x[1])\n",
    "\n",
    "# The list is mutable\n",
    "# 'x' and 'y' reference the list NOT a copy \n",
    "# 'z' is a copy of x\n",
    "y = x\n",
    "z = x[:]\n",
    "x[0] = 'Ramirez'\n",
    "x.pop()\n",
    "\n",
    "print(\"x is\", x)\n",
    "print(\"y is\", y)\n",
    "print(\"z is\", z)"
   ]
  },
  {
   "cell_type": "markdown",
   "metadata": {},
   "source": [
    "# Tuples\n",
    "- INMUTABLE object\n",
    "- We CAN NOT append, remove, change elements\n",
    "- ordered \n",
    "- starts at idx 0"
   ]
  },
  {
   "cell_type": "code",
   "execution_count": 47,
   "metadata": {},
   "outputs": [
    {
     "name": "stdout",
     "output_type": "stream",
     "text": [
      "(0, 0, 2, 2)\n"
     ]
    }
   ],
   "source": [
    "x = (0,0,2,2)\n",
    "# x[0] = 5 # ERROR: 'tuple' object does not support item assignment\n",
    "print(x)"
   ]
  },
  {
   "cell_type": "markdown",
   "metadata": {},
   "source": [
    "Mutability vs Inmutability\n",
    "- https://medium.com/@meghamohan/mutable-and-immutable-side-of-python-c2145cf72747\n",
    "- id() function returns the unique identity number of an object that remains constant throughout its lifetime"
   ]
  },
  {
   "cell_type": "markdown",
   "metadata": {},
   "source": [
    "### Inmutability"
   ]
  },
  {
   "cell_type": "code",
   "execution_count": 40,
   "metadata": {},
   "outputs": [
    {
     "name": "stdout",
     "output_type": "stream",
     "text": [
      "2615146905904\n",
      "2615146905904\n",
      "2615146905904\n",
      "2615146905712\n",
      "2615146905904\n"
     ]
    }
   ],
   "source": [
    "a = 3\n",
    "b = a\n",
    "print(id(a)) # points to the object \"3\"\n",
    "print(id(b)) \n",
    "print(id(3))\n",
    "\n",
    "a = a - 6  # points to another object \n",
    "print(id(a))\n",
    "print(id(b))"
   ]
  },
  {
   "cell_type": "markdown",
   "metadata": {},
   "source": [
    "### Mutability"
   ]
  },
  {
   "cell_type": "code",
   "execution_count": 45,
   "metadata": {},
   "outputs": [
    {
     "name": "stdout",
     "output_type": "stream",
     "text": [
      "2615260715456\n",
      "2615260715456\n",
      "2615260715456\n",
      "2615260715456\n"
     ]
    }
   ],
   "source": [
    "list1 = [2, False, 'Hello']\n",
    "list2 = list1\n",
    "\n",
    "print(id(list1))\n",
    "print(id(list2))\n",
    "\n",
    "list1.append(\"World\")\n",
    "\n",
    "print(id(list1))\n",
    "print(id(list2))\n",
    "\n"
   ]
  },
  {
   "cell_type": "markdown",
   "metadata": {},
   "source": [
    "# FOR Loops"
   ]
  },
  {
   "cell_type": "code",
   "execution_count": 52,
   "metadata": {},
   "outputs": [
    {
     "name": "stdout",
     "output_type": "stream",
     "text": [
      "1st loop\n",
      "10\n",
      "9\n",
      "8\n",
      "7\n",
      "6\n",
      "5\n",
      "4\n",
      "3\n",
      "2\n",
      "1\n",
      "2nd loop\n",
      "1\n",
      "4\n",
      "3\n",
      "6\n",
      "3rd loop\n",
      "0 1\n",
      "1 4\n",
      "2 3\n",
      "3 6\n"
     ]
    }
   ],
   "source": [
    "print(\"1st loop\")\n",
    "for i in range(10,0,-1):\n",
    "    print(i)\n",
    "\n",
    "print(\"2nd loop\")\n",
    "for i in [1,4,3,6]:\n",
    "    print(i)\n",
    "\n",
    "print(\"3rd loop\")\n",
    "x = [1,4,3,6]\n",
    "for i,element in enumerate(x):\n",
    "    print(i, element)"
   ]
  },
  {
   "cell_type": "markdown",
   "metadata": {},
   "source": [
    "# WHILE Loop"
   ]
  },
  {
   "cell_type": "code",
   "execution_count": 56,
   "metadata": {},
   "outputs": [
    {
     "name": "stdout",
     "output_type": "stream",
     "text": [
      "1st loop\n",
      "0\n",
      "1\n",
      "3\n",
      "7\n",
      "2nd loop\n",
      "0\n",
      "1\n",
      "2\n"
     ]
    }
   ],
   "source": [
    "print(\"1st loop\")\n",
    "i = 0 \n",
    "while i <= 10:\n",
    "    print(i)\n",
    "    i = i*2 +1\n",
    "\n",
    "print(\"2nd loop\")\n",
    "j = 0\n",
    "while True:\n",
    "    print(j)\n",
    "    j += 1\n",
    "    if j == 3:\n",
    "        break\n"
   ]
  },
  {
   "cell_type": "markdown",
   "metadata": {},
   "source": [
    "# Slice Operator"
   ]
  },
  {
   "cell_type": "code",
   "execution_count": 66,
   "metadata": {},
   "outputs": [
    {
     "name": "stdout",
     "output_type": "stream",
     "text": [
      "(2, 6, 32, -1)\n"
     ]
    }
   ],
   "source": [
    "x = [2,5,7,9,12,4,0]\n",
    "\n",
    "sliced = x[0:5:2] # from idx 0 to 5 step of 2\n",
    "sliced = x[::-1] # inverse list\n",
    "sliced = x[:-4:-1] # start at the end ...\n",
    "sliced = x[::2] # step of 2\n",
    "\n",
    "# It works in tuples\n",
    "sliced = (2,5,6,1,32,5,-1)[::2]\n",
    "\n",
    "print(sliced)"
   ]
  },
  {
   "cell_type": "markdown",
   "metadata": {},
   "source": [
    "# SETS\n",
    "- Unordered unique collection of elements\n",
    "- Useful when it is only important to know if certain element exists or not"
   ]
  },
  {
   "cell_type": "code",
   "execution_count": 69,
   "metadata": {},
   "outputs": [
    {
     "name": "stdout",
     "output_type": "stream",
     "text": [
      "<class 'set'>\n",
      "{4}\n",
      "{0, 1, 1.231234, 3, 4}\n",
      "True\n"
     ]
    }
   ],
   "source": [
    "x = set()\n",
    "y = {1,3,4,4,4,4,0,1.231234}\n",
    "\n",
    "x.add(5)\n",
    "x.add(4)\n",
    "x.remove(5)\n",
    "\n",
    "print(type(x))\n",
    "print(x)\n",
    "print(y)\n",
    "\n",
    "print(1 in y) # Look if a value is in the list "
   ]
  },
  {
   "cell_type": "markdown",
   "metadata": {},
   "source": [
    "# Dictionary"
   ]
  },
  {
   "cell_type": "code",
   "execution_count": 86,
   "metadata": {},
   "outputs": [
    {
     "name": "stdout",
     "output_type": "stream",
     "text": [
      "4\n",
      "{'key': 4, 'key2': 'value', 2: [2, True, 'Hello'], 4: [True, 'World']}\n",
      "True\n",
      "True\n",
      "dict_values([4, 'value', [2, True, 'Hello'], [True, 'World']])\n",
      "[4, 'value', [2, True, 'Hello'], [True, 'World']]\n",
      "dict_keys(['key', 'key2', 2, 4])\n",
      "['key', 'key2', 2, 4]\n",
      "{'key2': 'value', 2: [2, True, 'Hello'], 4: [True, 'World']}\n",
      "key2 value\n",
      "2 [2, True, 'Hello']\n",
      "4 [True, 'World']\n"
     ]
    }
   ],
   "source": [
    "x = {'key' : 4}\n",
    "\n",
    "# Access a dictionary\n",
    "print(x['key'])\n",
    "\n",
    "# Appending elements\n",
    "x['key2'] = 'value'\n",
    "x[2] = [2,True,'Hello']\n",
    "x[4] = [True,'World']\n",
    "\n",
    "print(x)\n",
    "print(2 in x)\n",
    "print('key2' in x)\n",
    "\n",
    "# Get values\n",
    "print(x.values())\n",
    "print(list(x.values()))\n",
    "\n",
    "# Get keys\n",
    "print(x.keys())\n",
    "print(list(x.keys()))\n",
    "\n",
    "# Delete element (key + value)\n",
    "del x['key']\n",
    "print(x)\n",
    "\n",
    "# Iterations\n",
    "for key,values in x.items():\n",
    "    print(key,values)"
   ]
  },
  {
   "cell_type": "markdown",
   "metadata": {},
   "source": [
    "# Comprehensions"
   ]
  },
  {
   "cell_type": "code",
   "execution_count": 93,
   "metadata": {},
   "outputs": [
    {
     "name": "stdout",
     "output_type": "stream",
     "text": [
      "{0, 5, 10, 15, 20, 25, 30, 35, 40, 45, 50, 55, 60, 65, 70, 75, 80, 85, 90, 95}\n"
     ]
    }
   ],
   "source": [
    "x = [i for i in range(5)]\n",
    "\n",
    "x = [[i for i in range(3)] for i in range(5)]\n",
    "\n",
    "x = [i for i in range(100) if i % 5 == 0] # list \n",
    "\n",
    "x = {i:i+3 for i in range(100) if i % 5 == 0} # dictionary\n",
    "\n",
    "x = {i for i in range(100) if i % 5 == 0} # set\n",
    "\n",
    "print(x)"
   ]
  },
  {
   "cell_type": "markdown",
   "metadata": {},
   "source": [
    "# Functions\n",
    "\n",
    "Functions can return functions"
   ]
  },
  {
   "cell_type": "code",
   "execution_count": 95,
   "metadata": {},
   "outputs": [
    {
     "name": "stdout",
     "output_type": "stream",
     "text": [
      "7\n"
     ]
    }
   ],
   "source": [
    "def func(x):\n",
    "    def func2(y):\n",
    "        print(x+y)\n",
    "    return func2\n",
    "\n",
    "z = func(3)\n",
    "z(4)"
   ]
  },
  {
   "cell_type": "markdown",
   "metadata": {},
   "source": [
    "## *args for LIST"
   ]
  },
  {
   "cell_type": "code",
   "execution_count": 98,
   "metadata": {},
   "outputs": [
    {
     "name": "stdout",
     "output_type": "stream",
     "text": [
      "1 4 5 6\n",
      "(1, 3) (6, 8)\n",
      "(1, 3) (6, 8)\n"
     ]
    }
   ],
   "source": [
    "# Operator \"*\" unpack a collection\n",
    "x = [1,4,5,6]\n",
    "print(*x)\n",
    "\n",
    "# Unpack collections in the parameters of a function\n",
    "# def func(*args, **kwargs):\n",
    "#    pass\n",
    "\n",
    "def func(x, y):\n",
    "    print(x,y)\n",
    "\n",
    "# List\n",
    "pairs = [(1,3), (6,8)]\n",
    "\n",
    "for pair in pairs:\n",
    "    # func(pairs[0], pairs[1])\n",
    "    func(*pairs)\n"
   ]
  },
  {
   "cell_type": "markdown",
   "metadata": {},
   "source": [
    "## **kwargs for DICTIONARY"
   ]
  },
  {
   "cell_type": "code",
   "execution_count": 105,
   "metadata": {},
   "outputs": [
    {
     "name": "stdout",
     "output_type": "stream",
     "text": [
      "Param 1: 4   |  Param 2: 7   |  x: 9\n"
     ]
    }
   ],
   "source": [
    "def func(param1, param2, x = None):\n",
    "    print(\"Param 1:\",param1,\"  |  Param 2:\",param2, \"  |  x:\",x)\n",
    "\n",
    "# Dictionary where keys are the argument function names\n",
    "pairs = {\"param1\":2, \"param2\":5}\n",
    "pairs = {\"param1\":4, \"param2\":7, \"x\": 9}\n",
    "\n",
    "func(**pairs)"
   ]
  },
  {
   "cell_type": "markdown",
   "metadata": {},
   "source": [
    "## raise : Exceptions, FileExistError, ..."
   ]
  },
  {
   "cell_type": "code",
   "execution_count": 106,
   "metadata": {},
   "outputs": [
    {
     "ename": "Exception",
     "evalue": "Bad",
     "output_type": "error",
     "traceback": [
      "\u001b[1;31m---------------------------------------------------------------------------\u001b[0m",
      "\u001b[1;31mException\u001b[0m                                 Traceback (most recent call last)",
      "\u001b[1;32mc:\\Users\\adrian\\Desktop\\github-projects\\python-quick-review\\quick-review.ipynb Cell 44'\u001b[0m in \u001b[0;36m<cell line: 1>\u001b[1;34m()\u001b[0m\n\u001b[1;32m----> <a href='vscode-notebook-cell:/c%3A/Users/adrian/Desktop/github-projects/python-quick-review/quick-review.ipynb#ch0000049?line=0'>1</a>\u001b[0m \u001b[39mraise\u001b[39;00m \u001b[39mException\u001b[39;00m(\u001b[39m'\u001b[39m\u001b[39mBad\u001b[39m\u001b[39m'\u001b[39m)\n",
      "\u001b[1;31mException\u001b[0m: Bad"
     ]
    }
   ],
   "source": [
    "raise Exception('Bad')"
   ]
  },
  {
   "cell_type": "code",
   "execution_count": 107,
   "metadata": {},
   "outputs": [
    {
     "ename": "FileExistsError",
     "evalue": "This is a description",
     "output_type": "error",
     "traceback": [
      "\u001b[1;31m---------------------------------------------------------------------------\u001b[0m",
      "\u001b[1;31mFileExistsError\u001b[0m                           Traceback (most recent call last)",
      "\u001b[1;32mc:\\Users\\adrian\\Desktop\\github-projects\\python-quick-review\\quick-review.ipynb Cell 45'\u001b[0m in \u001b[0;36m<cell line: 1>\u001b[1;34m()\u001b[0m\n\u001b[1;32m----> <a href='vscode-notebook-cell:/c%3A/Users/adrian/Desktop/github-projects/python-quick-review/quick-review.ipynb#ch0000051?line=0'>1</a>\u001b[0m \u001b[39mraise\u001b[39;00m \u001b[39mFileExistsError\u001b[39;00m(\u001b[39m'\u001b[39m\u001b[39mThis is a description\u001b[39m\u001b[39m'\u001b[39m)\n",
      "\u001b[1;31mFileExistsError\u001b[0m: This is a description"
     ]
    }
   ],
   "source": [
    "raise FileExistsError('This is a description')"
   ]
  },
  {
   "cell_type": "markdown",
   "metadata": {},
   "source": [
    "## Handling Exceptions"
   ]
  },
  {
   "cell_type": "code",
   "execution_count": 108,
   "metadata": {},
   "outputs": [
    {
     "name": "stdout",
     "output_type": "stream",
     "text": [
      "division by zero\n"
     ]
    }
   ],
   "source": [
    "try: \n",
    "    x = 7/0\n",
    "except Exception as e: \n",
    "    print(e)"
   ]
  },
  {
   "cell_type": "code",
   "execution_count": 109,
   "metadata": {},
   "outputs": [
    {
     "ename": "ZeroDivisionError",
     "evalue": "division by zero",
     "output_type": "error",
     "traceback": [
      "\u001b[1;31m---------------------------------------------------------------------------\u001b[0m",
      "\u001b[1;31mZeroDivisionError\u001b[0m                         Traceback (most recent call last)",
      "\u001b[1;32mc:\\Users\\adrian\\Desktop\\github-projects\\python-quick-review\\quick-review.ipynb Cell 48'\u001b[0m in \u001b[0;36m<cell line: 1>\u001b[1;34m()\u001b[0m\n\u001b[1;32m----> <a href='vscode-notebook-cell:/c%3A/Users/adrian/Desktop/github-projects/python-quick-review/quick-review.ipynb#ch0000054?line=0'>1</a>\u001b[0m x \u001b[39m=\u001b[39m \u001b[39m7\u001b[39;49m\u001b[39m/\u001b[39;49m\u001b[39m0\u001b[39;49m\n",
      "\u001b[1;31mZeroDivisionError\u001b[0m: division by zero"
     ]
    }
   ],
   "source": [
    "x = 7/0"
   ]
  },
  {
   "cell_type": "code",
   "execution_count": 111,
   "metadata": {},
   "outputs": [
    {
     "name": "stdout",
     "output_type": "stream",
     "text": [
      "finally\n"
     ]
    },
    {
     "ename": "ZeroDivisionError",
     "evalue": "division by zero",
     "output_type": "error",
     "traceback": [
      "\u001b[1;31m---------------------------------------------------------------------------\u001b[0m",
      "\u001b[1;31mZeroDivisionError\u001b[0m                         Traceback (most recent call last)",
      "\u001b[1;32mc:\\Users\\adrian\\Desktop\\github-projects\\python-quick-review\\quick-review.ipynb Cell 49'\u001b[0m in \u001b[0;36m<cell line: 1>\u001b[1;34m()\u001b[0m\n\u001b[0;32m      <a href='vscode-notebook-cell:/c%3A/Users/adrian/Desktop/github-projects/python-quick-review/quick-review.ipynb#ch0000055?line=1'>2</a>\u001b[0m     x \u001b[39m=\u001b[39m \u001b[39m7\u001b[39m\u001b[39m/\u001b[39m\u001b[39m0\u001b[39m\n\u001b[0;32m      <a href='vscode-notebook-cell:/c%3A/Users/adrian/Desktop/github-projects/python-quick-review/quick-review.ipynb#ch0000055?line=2'>3</a>\u001b[0m \u001b[39mexcept\u001b[39;00m \u001b[39mException\u001b[39;00m \u001b[39mas\u001b[39;00m e: \n\u001b[0;32m      <a href='vscode-notebook-cell:/c%3A/Users/adrian/Desktop/github-projects/python-quick-review/quick-review.ipynb#ch0000055?line=3'>4</a>\u001b[0m     \u001b[39m# print(e)\u001b[39;00m\n\u001b[1;32m----> <a href='vscode-notebook-cell:/c%3A/Users/adrian/Desktop/github-projects/python-quick-review/quick-review.ipynb#ch0000055?line=4'>5</a>\u001b[0m     \u001b[39mraise\u001b[39;00m e\n\u001b[0;32m      <a href='vscode-notebook-cell:/c%3A/Users/adrian/Desktop/github-projects/python-quick-review/quick-review.ipynb#ch0000055?line=5'>6</a>\u001b[0m \u001b[39mfinally\u001b[39;00m:\n\u001b[0;32m      <a href='vscode-notebook-cell:/c%3A/Users/adrian/Desktop/github-projects/python-quick-review/quick-review.ipynb#ch0000055?line=6'>7</a>\u001b[0m     \u001b[39mprint\u001b[39m(\u001b[39m'\u001b[39m\u001b[39mfinally\u001b[39m\u001b[39m'\u001b[39m)\n",
      "\u001b[1;32mc:\\Users\\adrian\\Desktop\\github-projects\\python-quick-review\\quick-review.ipynb Cell 49'\u001b[0m in \u001b[0;36m<cell line: 1>\u001b[1;34m()\u001b[0m\n\u001b[0;32m      <a href='vscode-notebook-cell:/c%3A/Users/adrian/Desktop/github-projects/python-quick-review/quick-review.ipynb#ch0000055?line=0'>1</a>\u001b[0m \u001b[39mtry\u001b[39;00m: \n\u001b[1;32m----> <a href='vscode-notebook-cell:/c%3A/Users/adrian/Desktop/github-projects/python-quick-review/quick-review.ipynb#ch0000055?line=1'>2</a>\u001b[0m     x \u001b[39m=\u001b[39m \u001b[39m7\u001b[39;49m\u001b[39m/\u001b[39;49m\u001b[39m0\u001b[39;49m\n\u001b[0;32m      <a href='vscode-notebook-cell:/c%3A/Users/adrian/Desktop/github-projects/python-quick-review/quick-review.ipynb#ch0000055?line=2'>3</a>\u001b[0m \u001b[39mexcept\u001b[39;00m \u001b[39mException\u001b[39;00m \u001b[39mas\u001b[39;00m e: \n\u001b[0;32m      <a href='vscode-notebook-cell:/c%3A/Users/adrian/Desktop/github-projects/python-quick-review/quick-review.ipynb#ch0000055?line=3'>4</a>\u001b[0m     \u001b[39m# print(e)\u001b[39;00m\n\u001b[0;32m      <a href='vscode-notebook-cell:/c%3A/Users/adrian/Desktop/github-projects/python-quick-review/quick-review.ipynb#ch0000055?line=4'>5</a>\u001b[0m     \u001b[39mraise\u001b[39;00m e\n",
      "\u001b[1;31mZeroDivisionError\u001b[0m: division by zero"
     ]
    }
   ],
   "source": [
    "try: \n",
    "    x = 7/0\n",
    "except Exception as e: \n",
    "    # print(e)\n",
    "    raise e\n",
    "finally:\n",
    "    print('finally')"
   ]
  },
  {
   "cell_type": "markdown",
   "metadata": {},
   "source": [
    "## lambda\n",
    "\n",
    "One line anonymous function"
   ]
  },
  {
   "cell_type": "code",
   "execution_count": 113,
   "metadata": {},
   "outputs": [
    {
     "name": "stdout",
     "output_type": "stream",
     "text": [
      "33\n"
     ]
    }
   ],
   "source": [
    "z = lambda x,y : x*y + 5\n",
    "\n",
    "print(z(7,4))"
   ]
  },
  {
   "cell_type": "markdown",
   "metadata": {},
   "source": [
    "## Map"
   ]
  },
  {
   "cell_type": "code",
   "execution_count": 114,
   "metadata": {},
   "outputs": [
    {
     "name": "stdout",
     "output_type": "stream",
     "text": [
      "[3, 8, 6, 11, 5, 7]\n"
     ]
    }
   ],
   "source": [
    "x = [1,6,4,9,3,5]\n",
    "\n",
    "mp = map(lambda i: i + 2, x)\n",
    "\n",
    "print(list(mp))"
   ]
  },
  {
   "cell_type": "markdown",
   "metadata": {},
   "source": [
    "## Filter"
   ]
  },
  {
   "cell_type": "code",
   "execution_count": 116,
   "metadata": {},
   "outputs": [
    {
     "name": "stdout",
     "output_type": "stream",
     "text": [
      "[6, 4]\n"
     ]
    }
   ],
   "source": [
    "x = [1,6,4,9,3,5]\n",
    "\n",
    "mp = filter(lambda i: i % 2 == 0, x) # lambda has to return a boolean value\n",
    "\n",
    "print(list(mp))"
   ]
  },
  {
   "cell_type": "markdown",
   "metadata": {},
   "source": [
    "## F Strings\n",
    "\n",
    "What is in the curly brackets will be evaluated and transformed into string\n"
   ]
  },
  {
   "cell_type": "code",
   "execution_count": 119,
   "metadata": {},
   "outputs": [
    {
     "name": "stdout",
     "output_type": "stream",
     "text": [
      "hello  14 3.2325\n",
      "hello  57.2325\n"
     ]
    }
   ],
   "source": [
    "var = 3.2325\n",
    "x  = f'hello  {6+8} {var}'\n",
    "\n",
    "print(x)\n",
    "print( f'hello  {6+8*6+var}' )"
   ]
  }
 ],
 "metadata": {
  "interpreter": {
   "hash": "563696ff2f0731da97234ba6f3e3de9a56a29679a3411b2753f42e8ea5897325"
  },
  "kernelspec": {
   "display_name": "Python 3.10.2 64-bit",
   "language": "python",
   "name": "python3"
  },
  "language_info": {
   "codemirror_mode": {
    "name": "ipython",
    "version": 3
   },
   "file_extension": ".py",
   "mimetype": "text/x-python",
   "name": "python",
   "nbconvert_exporter": "python",
   "pygments_lexer": "ipython3",
   "version": "3.10.2"
  },
  "orig_nbformat": 4
 },
 "nbformat": 4,
 "nbformat_minor": 2
}
