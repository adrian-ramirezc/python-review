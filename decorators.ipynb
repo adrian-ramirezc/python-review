{
 "cells": [
  {
   "cell_type": "markdown",
   "metadata": {},
   "source": [
    "# Decorators\n",
    "\n",
    "**First Class Function in Python**\n",
    "- A function is an instance of the Object type.\n",
    "- You can store the function in a variable.\n",
    "- You can pass the function as a parameter to another function.\n",
    "- You can return the function from a function.\n",
    "- You can store them in data structures such as hash tables, lists, ...\n",
    "\n",
    "**Inner functions**\n",
    "- Are enclosed within the outer function.\n",
    "- Can access variables present in the outer function scope. \n",
    "- It can access these variables even after the outer function has completed its execution.\n",
    "\n",
    "**Python Closures**\n",
    "\n",
    "- The inner function becomes a closure when we return the inner function instead of calling it."
   ]
  },
  {
   "cell_type": "code",
   "execution_count": 7,
   "metadata": {},
   "outputs": [
    {
     "name": "stdout",
     "output_type": "stream",
     "text": [
      "Hello\n",
      "World\n"
     ]
    }
   ],
   "source": [
    "def outer_function(msg):\n",
    "    def inner_function():\n",
    "        return msg\n",
    "    return inner_function\n",
    "\n",
    "hello_func = outer_function(\"Hello\")\n",
    "world_func = outer_function(\"World\")\n",
    "\n",
    "print(hello_func())\n",
    "print(world_func())"
   ]
  },
  {
   "cell_type": "code",
   "execution_count": 22,
   "metadata": {},
   "outputs": [
    {
     "name": "stdout",
     "output_type": "stream",
     "text": [
      "Common-Basic Functionality\n",
      " These are the parameters: p1 and p2\n",
      "Common-Basic Functionality\n",
      "Show number:  1000\n",
      "Common-Basic Functionality\n",
      "Hello World\n"
     ]
    }
   ],
   "source": [
    "def basic_function(new_functionalities):\n",
    "    \n",
    "    def wrapper_function(*args, **kwargs):\n",
    "        # we can add basic functionalities to the wrapper function\n",
    "        # before executing the new functionality\n",
    "        print(\"Common-Basic Functionality\")\n",
    "        nf = new_functionalities(*args, **kwargs) # executes the new feature\n",
    "        # we can add basic functionalities to the wrapper function\n",
    "        # after executing the new functionality\n",
    "        return nf\n",
    "    \n",
    "    return wrapper_function\n",
    "\n",
    "# New functionality to \"basic_function\"\n",
    "def display1(param1, param2):\n",
    "    print(f' These are the parameters: {param1} and {param2}')\n",
    "\n",
    "display_func = basic_function(display1)\n",
    "display_func(\"p1\",\"p2\")\n",
    "\n",
    "# Compact way\n",
    "@basic_function\n",
    "def display(number):\n",
    "    print(f\"Show number:  {number}\")\n",
    "\n",
    "# Adding a different functionality to the same \"basic_function\"\n",
    "@basic_function\n",
    "def hello_world():\n",
    "    print(\"Hello World\")\n",
    "\n",
    "\n",
    "display(1000)\n",
    "\n",
    "hello_world()\n",
    " \n"
   ]
  },
  {
   "cell_type": "markdown",
   "metadata": {},
   "source": [
    "### Applications\n",
    "\n",
    "1. Logging "
   ]
  },
  {
   "cell_type": "code",
   "execution_count": 38,
   "metadata": {},
   "outputs": [
    {
     "name": "stdout",
     "output_type": "stream",
     "text": [
      "display_info ran with arguments ({name}, {age})\n",
      "display_info ran in: 0.0 sec\n"
     ]
    }
   ],
   "source": [
    "import time\n",
    "from functools import wraps\n",
    "\n",
    "def my_logger(func):\n",
    "    import logging \n",
    "    logging.basicConfig(filename=f'{func.__name__}.log', level = logging.INFO)\n",
    "    \n",
    "    @wraps(func)\n",
    "    def wrapper(*args, **kwargs):\n",
    "        logging.info(\n",
    "            f'Ran with args: {args}, and kwargs: {kwargs}'\n",
    "        )\n",
    "        return func(*args, **kwargs)\n",
    "    return wrapper\n",
    "\n",
    "def my_timer(func):\n",
    "    import time\n",
    "\n",
    "    @wraps(func)\n",
    "    def wrapper(*args, **kwargs):\n",
    "        t1 = time.time()\n",
    "        result = func(*args, **kwargs)\n",
    "        t2 = time.time()\n",
    "        print(f'{func.__name__} ran in: {t2-t1} sec')\n",
    "        return result\n",
    "    return wrapper\n",
    "\n",
    "@my_logger\n",
    "@my_timer\n",
    "def display_info(name, age):\n",
    "    print('display_info ran with arguments ({name}, {age})')\n",
    "\n",
    "display_info('Nilo', 24)\n",
    "\n",
    "\n",
    "\n"
   ]
  },
  {
   "cell_type": "code",
   "execution_count": null,
   "metadata": {},
   "outputs": [],
   "source": []
  }
 ],
 "metadata": {
  "interpreter": {
   "hash": "563696ff2f0731da97234ba6f3e3de9a56a29679a3411b2753f42e8ea5897325"
  },
  "kernelspec": {
   "display_name": "Python 3.10.2 64-bit",
   "language": "python",
   "name": "python3"
  },
  "language_info": {
   "codemirror_mode": {
    "name": "ipython",
    "version": 3
   },
   "file_extension": ".py",
   "mimetype": "text/x-python",
   "name": "python",
   "nbconvert_exporter": "python",
   "pygments_lexer": "ipython3",
   "version": "3.10.2"
  },
  "orig_nbformat": 4
 },
 "nbformat": 4,
 "nbformat_minor": 2
}
